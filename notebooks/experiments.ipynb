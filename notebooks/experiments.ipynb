{
 "cells": [
  {
   "cell_type": "code",
   "execution_count": null,
   "id": "85f5ba02",
   "metadata": {},
   "outputs": [],
   "source": [
    "import numpy as np\n",
    "import pandas as pd\n",
    "import torch\n",
    "import torch.nn as nn\n",
    "import torch.nn.functional as F\n",
    "import os\n",
    "from torch.utils.data import Dataset, DataLoader"
   ]
  },
  {
   "cell_type": "code",
   "execution_count": 18,
   "metadata": {},
   "outputs": [],
   "source": [
    "# Create the train, val, and test dataloaders\n",
    "class MRNetDataset(Dataset):\n",
    "    def __init__(self, data_dir,csv_file,  split='train', plane=\"axial\", transform=None):\n",
    "        self.data_dir = data_dir\n",
    "        self.split = split\n",
    "        self.plane = plane\n",
    "        df = pd.read_csv(os.path.join(data_dir, csv_file), header=None, names=['id', 'label'])\n",
    "        self.ids = df['id'].values\n",
    "        self.labels = df['label'].values\n",
    "        self.transform = transform\n",
    "\n",
    "    def __len__(self):\n",
    "        return len(self.ids)\n",
    "\n",
    "    def __getitem__(self, idx):\n",
    "        id = self.ids[idx]\n",
    "        # n x 256 x 256 [depth of the mri, height, width]\n",
    "        volume = np.load(os.path.join(self.data_dir+f\"/{self.split}\", self.plane, f\"{id}.npy\"))\n",
    "        # standardize the volume\n",
    "        volume = (volume - volume.mean()) /volume.std()\n",
    "        volume = torch.from_numpy(volume, dtype=torch.float32).unsqueeze(0)  # Add channel dimension\n",
    "        label = torch.tensor(self.labels[idx], dtype=torch.long)\n",
    "        return volume, label"
   ]
  },
  {
   "cell_type": "code",
   "execution_count": null,
   "metadata": {},
   "outputs": [],
   "source": [
    "data_root = '../data'\n",
    "batch_size = 16\n",
    "lr = 1e-3\n",
    "num_epochs = 50\n",
    "\n",
    "train_dataset = MRNetDataset(data_dir=data_root, csv_file='train-acl.csv', split='train', plane=\"axial\")\n",
    "val_dataset = MRNetDataset(data_dir=data_root, csv_file='valid-acl.csv', split='val', plane=\"axial\")"
   ]
  },
  {
   "cell_type": "code",
   "execution_count": 21,
   "metadata": {},
   "outputs": [
    {
     "data": {
      "text/plain": [
       "120"
      ]
     },
     "execution_count": 21,
     "metadata": {},
     "output_type": "execute_result"
    }
   ],
   "source": [
    "n = len(val_dataset)\n",
    "n"
   ]
  },
  {
   "cell_type": "code",
   "execution_count": 27,
   "metadata": {},
   "outputs": [],
   "source": [
    "test_size = int(0.4 * n)\n",
    "val_size = n - test_size\n",
    "\n",
    "generator = torch.Generator().manual_seed(8)\n",
    "val_ds, test_ds = torch.utils.data.random_split(val_dataset, [val_size, test_size], generator=generator)"
   ]
  },
  {
   "cell_type": "code",
   "execution_count": null,
   "metadata": {},
   "outputs": [],
   "source": [
    "train_loader = DataLoader(train_dataset, batch_size=batch_size, shuffle=True, num_workers=4)\n",
    "val_loader = DataLoader(val_ds, batch_size=batch_size, shuffle=False, num_workers=4)  \n",
    "test_loader = DataLoader(test_ds, batch_size=batch_size, shuffle=False, num_workers=4)  \n"
   ]
  },
  {
   "cell_type": "code",
   "execution_count": null,
   "metadata": {},
   "outputs": [],
   "source": [
    "class SqueezeModule(nn.Module):\n",
    "    def __init__(self, in_channels, out_channels):\n",
    "        super(SqueezeModule, self).__init__()\n",
    "        self.squeeze = nn.Conv3d(in_channels, out_channels, kernel_size=1)\n",
    "        self.conv1 = nn.Conv3d(out_channels, out_channels//2, kernel_size=1)\n",
    "        self.conv3 = nn.Conv3d(out_channels, out_channels//2, kernel_size=3, padding=9)\n",
    "        self.relu = nn.ReLU(inplace=True)\n",
    "\n",
    "    def forward(self, x):\n",
    "        x = self.relu(self.squeeze(x))\n",
    "        x1 = self.relu(self.conv1(x))\n",
    "        x2 = self.relu(self.conv3(x))\n",
    "        return torch.cat([x1, x2], dim=1)"
   ]
  },
  {
   "cell_type": "code",
   "execution_count": null,
   "metadata": {},
   "outputs": [],
   "source": [
    "class AttentionModule(nn.Module):\n",
    "    def __init__(self, lower_channels, high_channels, intermediate_channels ):\n",
    "        super().__init__()\n",
    "        self.win = nn.Conv3d(lower_channels+high_channels,intermediate_channels, kernel_size=1)\n",
    "        self.wout = nn.Conv3d(intermediate_channels, 1, kernel_size=1)\n",
    "\n",
    "    def forward(self, low_features, high_features):\n",
    "        x = torch.cat([low_features, high_features], dim=1)\n",
    "        x = self.win(x)\n",
    "        x = F.relu(x)\n",
    "        x = self.wout(x) # low feat, high feat,  D, H, W\n",
    "        B, _, D, H, W = x.shape\n",
    "        a = x.view(B, -1)\n",
    "        return F.softmax(a, dim=1).view(B, 1, D, H, W)"
   ]
  },
  {
   "cell_type": "code",
   "execution_count": null,
   "metadata": {},
   "outputs": [],
   "source": [
    "class ACL3DModel(nn.Module):\n",
    "    def __init__(self, ):\n",
    "        super().__init__()\n",
    "        pass\n",
    "    def forward(self, x):\n",
    "        pass\n"
   ]
  }
 ],
 "metadata": {
  "kernelspec": {
   "display_name": "mrnet_ml",
   "language": "python",
   "name": "python3"
  },
  "language_info": {
   "codemirror_mode": {
    "name": "ipython",
    "version": 3
   },
   "file_extension": ".py",
   "mimetype": "text/x-python",
   "name": "python",
   "nbconvert_exporter": "python",
   "pygments_lexer": "ipython3",
   "version": "3.12.11"
  }
 },
 "nbformat": 4,
 "nbformat_minor": 5
}
